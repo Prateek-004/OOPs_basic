{
 "cells": [
  {
   "cell_type": "markdown",
   "id": "239e5e74-2942-44da-8d32-2ecbdf5cd288",
   "metadata": {},
   "source": [
    "# Class and Objects :"
   ]
  },
  {
   "cell_type": "markdown",
   "id": "2a65ce5d-9a4a-429a-97e0-843f7ccbc3a6",
   "metadata": {},
   "source": [
    "##### Q.1 Create a class Car that has attributes brand and model. Create two objects and print their details ."
   ]
  },
  {
   "cell_type": "code",
   "execution_count": 1,
   "id": "ce4db4bb-49be-44cb-8731-1f22b9a5a0d6",
   "metadata": {},
   "outputs": [],
   "source": [
    "class Car: \n",
    "    def __init__(self, brand, model): # take two inputs as parameter\n",
    "        self.__brand = brand\n",
    "        self.__model = model \n",
    "\n",
    "    def brand_name(self):\n",
    "        print(\"The brand name of the car is: \",self.__brand) # print the brand name of the car\n",
    "    def model_name(self):\n",
    "        print(\"The model name of the car is:\",self.__model) # print the model name of the car\n",
    "    def details(self): # prints both car's name and car's model\n",
    "        print(\"The brand name of the car is: \",self.__brand)\n",
    "        print(\"The model name of the car is:\",self.__model)\n",
    "        "
   ]
  },
  {
   "cell_type": "code",
   "execution_count": 2,
   "id": "038d89f2-4d96-4005-9b0b-9a72bc26bc67",
   "metadata": {},
   "outputs": [
    {
     "name": "stdout",
     "output_type": "stream",
     "text": [
      "The brand name of the car is:  Toyota\n"
     ]
    }
   ],
   "source": [
    "car1 = Car(\"Toyota\",\"Cruiser\")\n",
    "car1.brand_name()"
   ]
  },
  {
   "cell_type": "code",
   "execution_count": 3,
   "id": "87871977-5555-4148-a7bc-9d19c51958f6",
   "metadata": {},
   "outputs": [
    {
     "name": "stdout",
     "output_type": "stream",
     "text": [
      "The model name of the car is: Cruiser\n"
     ]
    }
   ],
   "source": [
    "car1.model_name()"
   ]
  },
  {
   "cell_type": "code",
   "execution_count": 4,
   "id": "1a0c88d3-fca5-494f-8fca-298d78d48c33",
   "metadata": {},
   "outputs": [
    {
     "name": "stdout",
     "output_type": "stream",
     "text": [
      "The brand name of the car is:  Toyota\n",
      "The model name of the car is: Cruiser\n"
     ]
    }
   ],
   "source": [
    "car1.details()"
   ]
  },
  {
   "cell_type": "markdown",
   "id": "2b1a64e5-15b7-461b-89d0-06d1bbcee171",
   "metadata": {},
   "source": [
    "##### Q.2 Extend the Car class by adding a method full_name() that returns the brand and model together. Call it from different objects ."
   ]
  },
  {
   "cell_type": "code",
   "execution_count": 8,
   "id": "e8c9a5b0-c7d0-48ce-b9a6-3f906f0e1ec2",
   "metadata": {},
   "outputs": [],
   "source": [
    "class Car:\n",
    "    def __init__(self, brand, model): # taking two parameters brand name and model name\n",
    "        self.__brand = brand\n",
    "        self.__model = model \n",
    "\n",
    "\n",
    "    def brand_name(self):\n",
    "        print(\"The brand name of the car is: \",self.__brand)\n",
    "    def model_name(self):\n",
    "        print(\"The model name of the car is:\",self.__model)\n",
    "    def details(self):\n",
    "        print(\"The brand name of the car is: \",self.__brand)\n",
    "        print(\"The model name of the car is:\",self.__model)\n",
    "\n",
    "    def full_name(self): # defined a function to print brand name + model name \n",
    "        print(self.__brand, self.__model)"
   ]
  },
  {
   "cell_type": "code",
   "execution_count": 9,
   "id": "92d504ab-025b-4b86-b276-7e487c18fe89",
   "metadata": {},
   "outputs": [
    {
     "name": "stdout",
     "output_type": "stream",
     "text": [
      "Mitsubishi Pajero\n"
     ]
    }
   ],
   "source": [
    "car2 = Car(\"Mitsubishi\",\"Pajero\")\n",
    "car2.full_name()"
   ]
  },
  {
   "cell_type": "markdown",
   "id": "735633ce-7ffd-4fa3-a805-f44d8a6cad90",
   "metadata": {},
   "source": [
    "##### Q.3 Create a Laptop class where brand and price are passed while creating an object, but ram has a default value of \"8GB\". Print all attributes."
   ]
  },
  {
   "cell_type": "code",
   "execution_count": 10,
   "id": "3d9656a3-d338-414a-9893-c31f7caa790b",
   "metadata": {},
   "outputs": [],
   "source": [
    "class Laptop:\n",
    "    def __init__(self, brand, price, ram = \"8gb\"): # defining ram = 8gb as default parameter\n",
    "        self.__brand = brand\n",
    "        self.__price = price\n",
    "        self.__ram = ram\n",
    "\n",
    "    def brand_name(self):\n",
    "        print(\"The brand name of the laptop is: \", self.__brand)\n",
    "    def total_price(self): # price display function\n",
    "        print(\"The laptop's price is: \",self.__price)\n",
    "    def ram_size(self): # a function to calls the ram size of the laptop \n",
    "        print(\"The size of the ram in this laptop is: \",self.__ram) "
   ]
  },
  {
   "cell_type": "code",
   "execution_count": 16,
   "id": "0e00cb40-0208-4feb-8e69-e4b6cc6053fd",
   "metadata": {},
   "outputs": [
    {
     "name": "stdout",
     "output_type": "stream",
     "text": [
      "The brand name of the laptop is:  Hp\n",
      "The laptop's price is:  58000\n",
      "The size of the ram in this laptop is:  8gb\n"
     ]
    }
   ],
   "source": [
    "laptop1 = Laptop(\"Hp\",58000)\n",
    "laptop1.brand_name()\n",
    "laptop1.total_price()\n",
    "laptop1.ram_size()"
   ]
  },
  {
   "cell_type": "code",
   "execution_count": 19,
   "id": "3c45a799-13cd-457b-9363-2b00838730d7",
   "metadata": {},
   "outputs": [
    {
     "name": "stdout",
     "output_type": "stream",
     "text": [
      "The brand name of the laptop is:  Dell\n",
      "The laptop's price is:  75000\n",
      "The size of the ram in this laptop is:  16gb\n"
     ]
    }
   ],
   "source": [
    "laptop2 = Laptop(\"Dell\",75000,\"16gb\") # changed the ram from default 8gb to 16gb for this object\n",
    "laptop2.brand_name()\n",
    "laptop2.total_price()\n",
    "laptop2.ram_size()"
   ]
  },
  {
   "cell_type": "markdown",
   "id": "6add50ba-f291-4390-a507-ec46155bc055",
   "metadata": {},
   "source": [
    "##### Q.4 Create a Student class with name and marks. Add a method update_marks(new_marks) to change the marks of the student. Show the change ."
   ]
  },
  {
   "cell_type": "code",
   "execution_count": 25,
   "id": "057bc0e8-8c30-4ae6-9ac2-35f91970d54e",
   "metadata": {},
   "outputs": [],
   "source": [
    "class Student:\n",
    "    def __init__(self, maths, english, science):\n",
    "        self.__maths = maths\n",
    "        self.__english = english\n",
    "        self.__science = science\n",
    "\n",
    "    def show_marks(self): # shows all the marks of a student\n",
    "        print(\"Maths:\",self.__maths,\" English:\",self.__english, \" Science:\",self.__science)\n",
    "   \n",
    "    def marks_update(self, subject, marks): # updating the marks of a subject\n",
    "        self.__subject = subject\n",
    "        self.__marks = marks\n",
    "        if self.__subject.lower() in [\"maths\",\"english\",\"science\"]:\n",
    "            subject = subject.lower()\n",
    "            if subject == \"maths\":\n",
    "                self.__maths = marks # if updating subject is maths , change math's marks to the new marks given during function call\n",
    "            elif subject == \"english\":\n",
    "                self.__english = marks # if the subject is english then change the existing marks in english to the new marks\n",
    "            elif subject == \"science\":\n",
    "                self.__science = marks\n",
    "            print(f\"The marks in {self.__subject} is: \",self.__marks)\n",
    "        \n",
    "        else:\n",
    "            print(\"No records regard this subject\")"
   ]
  },
  {
   "cell_type": "code",
   "execution_count": 27,
   "id": "c7bbd533-01e5-4cc7-b08d-3072eafd8274",
   "metadata": {
    "scrolled": true
   },
   "outputs": [
    {
     "name": "stdout",
     "output_type": "stream",
     "text": [
      "Maths: 15  English: 68  Science: 94\n",
      "The marks in science is:  98\n",
      "Maths: 15  English: 68  Science: 98\n",
      "The marks in maths is:  92\n",
      "Maths: 92  English: 68  Science: 98\n"
     ]
    }
   ],
   "source": [
    "Jaty = Student(15,68,94)\n",
    "Jaty.show_marks()\n",
    "Jaty.marks_update(\"science\",98)\n",
    "Jaty.show_marks()\n",
    "Jaty.marks_update(\"maths\",92)\n",
    "Jaty.show_marks()"
   ]
  },
  {
   "cell_type": "markdown",
   "id": "0f222411-0db3-4933-83b7-b6084e0e0caa",
   "metadata": {},
   "source": [
    "##### Q.5 Create a Book class with title and pages. Write a method compare_pages(other_book) that compares which book has more pages ."
   ]
  },
  {
   "cell_type": "code",
   "execution_count": 12,
   "id": "083153e2-7e64-42b4-9f64-dd3ec230ccc5",
   "metadata": {},
   "outputs": [],
   "source": [
    "class Book:\n",
    "    def __init__(self, title, pages): # defining two attributes of book title and pages\n",
    "        self.__title = title\n",
    "        self.__pages = pages\n",
    "\n",
    "    def compare(self, other):  # compairing the pages of both the book\n",
    "        if self.__pages > other.__pages:\n",
    "            print(f\"{self.__title} have more pages \")\n",
    "        elif self.__pages == other.__pages:\n",
    "            print(f\"Both books have equal number of pages \")\n",
    "        else:\n",
    "            print(f\"{other.__title} have more pages\")"
   ]
  },
  {
   "cell_type": "code",
   "execution_count": 13,
   "id": "98ba37e0-b8e8-477a-9767-00f55c8ddbe3",
   "metadata": {},
   "outputs": [
    {
     "name": "stdout",
     "output_type": "stream",
     "text": [
      "The life of a stone have more pages \n"
     ]
    }
   ],
   "source": [
    "book1 = Book(\"The life of a stone\",256)\n",
    "book2 = Book(\"The Sinking Legend\", 167)\n",
    "book1.compare(book2) # compares both books where book1 = self and book2 = other"
   ]
  },
  {
   "cell_type": "markdown",
   "id": "a287096b-ceb5-4382-bd77-0bf3a066e2ae",
   "metadata": {},
   "source": [
    "##### Q.6 Create an Employee class with a class variable company_name = \"TechCorp\" and instance variables name and salary. Show that changing company_name from the class changes it for all objects ."
   ]
  },
  {
   "cell_type": "code",
   "execution_count": 21,
   "id": "b07d0cef-4d55-434b-a645-4e2d18c7fcda",
   "metadata": {},
   "outputs": [],
   "source": [
    "class Employee:\n",
    "    company_name = \"TechCorp\" # defining a class variable with \"TechCorp\" as the default value\n",
    "    def __init__(self, name, salary):\n",
    "        self.__name = name\n",
    "        self.__salary = salary\n",
    "\n",
    "    def show_details(self): # displays the details of the employee\n",
    "        print(\"Employee name:\", self.__name,\" \",\"Employee Salary:\", self.__salary, \" \", \"Company name:\",self.company_name)\n",
    "        "
   ]
  },
  {
   "cell_type": "code",
   "execution_count": 22,
   "id": "4e21855c-fb9e-421d-b7b7-4add669f86f5",
   "metadata": {
    "scrolled": true
   },
   "outputs": [
    {
     "name": "stdout",
     "output_type": "stream",
     "text": [
      "Employee name: Rakesh   Employee Salary: 37000   Company name: TechCorp\n"
     ]
    }
   ],
   "source": [
    "Rakesh = Employee(\"Rakesh\",37000) \n",
    "Rakesh.show_details() # calling the details Rakesh via show_details function."
   ]
  },
  {
   "cell_type": "code",
   "execution_count": 24,
   "id": "f60bc456-3e88-4b25-a38d-3589fa59b390",
   "metadata": {},
   "outputs": [
    {
     "name": "stdout",
     "output_type": "stream",
     "text": [
      "Employee name: Tony   Employee Salary: 58000   Company name: Teccity\n"
     ]
    }
   ],
   "source": [
    "Tony = Employee(\"Tony\",58000)\n",
    "Tony.company_name = \"Teccity\" # defined an instance variable of object Tony\n",
    "Tony.show_details() # display the details of Tony including the company name as Teccity"
   ]
  },
  {
   "cell_type": "markdown",
   "id": "9ab6c280-14ed-4e4f-bb22-5b58cf374a3f",
   "metadata": {},
   "source": [
    "##### Q.7 Create a Product class with a class variable count to track how many objects are created. Increase count in the constructor each time an object is made ."
   ]
  },
  {
   "cell_type": "code",
   "execution_count": 39,
   "id": "732b9395-76e6-4643-ba29-ae355e6b1668",
   "metadata": {},
   "outputs": [],
   "source": [
    "class Product:\n",
    "    count = 0 # defined a class variable count\n",
    "    def __init__(self, product_name):\n",
    "        self.product_name = product_name\n",
    "        Product.count+=1 # count variable get increase by 1 everytime this class get called (to create objects)\n",
    "\n",
    "    def show_details(self): # show the details of every product when called\n",
    "        print(\"The product name is:\",self.product_name,\" \", \"and the number of the product is:\",Product.count)"
   ]
  },
  {
   "cell_type": "code",
   "execution_count": 40,
   "id": "16605aa5-69eb-43dc-b516-50e0cbdd8fc1",
   "metadata": {},
   "outputs": [
    {
     "name": "stdout",
     "output_type": "stream",
     "text": [
      "The product name is: Fan   and the number of the product is: 1\n"
     ]
    }
   ],
   "source": [
    "pro1 = Product(\"Fan\")\n",
    "pro1.show_details()"
   ]
  },
  {
   "cell_type": "markdown",
   "id": "d84bbd88-0f30-4a13-84f1-34be7c146acb",
   "metadata": {},
   "source": [
    "##### Q.8 Write a function create_student(name, age) that returns an object of the Student class. Then store and use it . "
   ]
  },
  {
   "cell_type": "code",
   "execution_count": 48,
   "id": "448f79b3-634b-4b9c-8381-d5bff21b0375",
   "metadata": {},
   "outputs": [],
   "source": [
    "class Student:\n",
    "    def __init__(self, name, age):\n",
    "        self.name = name\n",
    "        self.age = age\n",
    "    def show_details(self): # show the discription of the student\n",
    "        print(\"Name of the student:\",self.name,\"and the age is:\",self.age)\n",
    "\n",
    "    def compare(self, other): # compare the age of two student\n",
    "        if self.age > other.age:\n",
    "            print(self.name,\"is older than\",other.name)\n",
    "        else:\n",
    "            print(other.name,\"is older than\",self.name)"
   ]
  },
  {
   "cell_type": "code",
   "execution_count": 49,
   "id": "aec8ed1b-9318-4e2f-8ecc-cfb159ccb80d",
   "metadata": {},
   "outputs": [
    {
     "name": "stdout",
     "output_type": "stream",
     "text": [
      "Name of the student: Raghav and the age is: 17\n"
     ]
    }
   ],
   "source": [
    "Raghav = Student(\"Raghav\",17)\n",
    "Raghav.show_details()"
   ]
  },
  {
   "cell_type": "code",
   "execution_count": 50,
   "id": "3ba06da3-0f21-465a-9957-43b04f27cb19",
   "metadata": {},
   "outputs": [
    {
     "name": "stdout",
     "output_type": "stream",
     "text": [
      "Dhruv is older than Raghav\n"
     ]
    }
   ],
   "source": [
    "Dhruv = Student(\"Dhruv\",19)\n",
    "Dhruv.compare(Raghav) # Dhruv is self and Raghav is other"
   ]
  },
  {
   "cell_type": "markdown",
   "id": "d2d17e44-ee12-436f-8dd4-838309cab3e4",
   "metadata": {},
   "source": [
    "##### Q.9 Create a Battery class with capacity in mAh. Create a Mobile class that contains a Battery object as an attribute. Show mobile details including battery capacity ."
   ]
  },
  {
   "cell_type": "code",
   "execution_count": 65,
   "id": "098a538b-e446-49b6-802a-c6b7e1ffa65d",
   "metadata": {},
   "outputs": [],
   "source": [
    "class Battery: # defined a class battery\n",
    "    def __init__(self, size):\n",
    "        self.size = size\n",
    "\n",
    "    def show_details(self): # show the battery size\n",
    "        print(\"The battery size is\",self.size,\"mAh\")\n",
    "\n",
    "class Mobile:\n",
    "    def __init__(self, name, battery): # defined a class mobile with two attributes name and battery\n",
    "        self.name = name\n",
    "        self.battery = battery\n",
    "\n",
    "    def description(self): # description about mobile's specs\n",
    "        print(\"The name of the mobile is:\",self.name,\"and the battery size is:\",self.battery.size)"
   ]
  },
  {
   "cell_type": "code",
   "execution_count": 66,
   "id": "7c200213-4cb8-4d9f-bf36-170beaa183bc",
   "metadata": {},
   "outputs": [
    {
     "name": "stdout",
     "output_type": "stream",
     "text": [
      "The name of the mobile is: Samsung and the battery size is: 5000\n"
     ]
    }
   ],
   "source": [
    "R1 = Battery(5000)\n",
    "mob = Mobile(\"Samsung\",R1) # giving battery class's object as a data for the object of mobile class\n",
    "mob.description() # calling description function to see the specs of the mob object"
   ]
  },
  {
   "cell_type": "markdown",
   "id": "68343736-0fcb-49b5-94b6-7617b2135b61",
   "metadata": {},
   "source": [
    "##### Q.10 Create a BankAccount class with:<br><br>Attributes: account_holder, balance (default 0).<br><br>Methods: deposit(amount), withdraw(amount), and display_balance().<br>Simulate deposits and withdrawals for two accounts."
   ]
  },
  {
   "cell_type": "code",
   "execution_count": 14,
   "id": "098159d1-50a1-4984-a097-707cf7e6023b",
   "metadata": {},
   "outputs": [],
   "source": [
    "class Bankaccount:\n",
    "    def __init__(self, user, balance): # defined a class Bankaccount with two attributes User name and balance \n",
    "        self.user = user\n",
    "        self.balance = balance\n",
    "\n",
    "    def withdraw(self, amount): # a function to withdraw money from account's balance\n",
    "        self.amount = amount\n",
    "        if self.balance - self.amount <1000: # unable to withdraw if the balance get lower than 1000 after withdraw\n",
    "            print(\"Insufficient balance\")\n",
    "        else:\n",
    "            self.balance = self.balance - self.amount \n",
    "            print(f\"{self.amount} Rs get withdraw\")\n",
    "\n",
    "    def deposite(self, amount): # a function to add money to account's balance\n",
    "        self.amount = amount\n",
    "        self.balance = self.balance + self.amount # setting old balance + deposite money as new balance\n",
    "        print(f\"{self.amount} Rs get deposited\")\n",
    "\n",
    "    def show_details(self): # show the description of account's attributes\n",
    "        print(\"user name:\",self.user,\" \",\"balance:\",self.balance,\"Rs\")\n",
    "\n",
    "    def show_balance(self): # defined a function to know about the balance in the account\n",
    "        print(\"Balance:\",self.balance,\"Rs\")"
   ]
  },
  {
   "cell_type": "code",
   "execution_count": 15,
   "id": "65b2a89a-f9a9-4625-8ef7-720da707a1a1",
   "metadata": {},
   "outputs": [
    {
     "name": "stdout",
     "output_type": "stream",
     "text": [
      "Balance: 18000 Rs\n",
      "12000 Rs get withdraw\n",
      "Balance: 6000 Rs\n"
     ]
    }
   ],
   "source": [
    "cus1 = Bankaccount(\"Raghu\",18000)\n",
    "cus1.show_balance()\n",
    "cus1.withdraw(12000)\n",
    "cus1.show_balance()"
   ]
  },
  {
   "cell_type": "code",
   "execution_count": 16,
   "id": "1193aa20-90da-4261-ac30-768f74bb2bd9",
   "metadata": {},
   "outputs": [
    {
     "name": "stdout",
     "output_type": "stream",
     "text": [
      "user name: Dolly   balance: 75000 Rs\n",
      "40000 Rs get deposited\n",
      "Balance: 115000 Rs\n"
     ]
    }
   ],
   "source": [
    "cus2 = Bankaccount(\"Dolly\",75000)\n",
    "cus2.show_details()\n",
    "cus2.deposite(40000)\n",
    "cus2.show_balance()"
   ]
  },
  {
   "cell_type": "code",
   "execution_count": 18,
   "id": "a9cf8bb6-9dc6-4c85-9897-c56620fd6cb6",
   "metadata": {},
   "outputs": [
    {
     "name": "stdout",
     "output_type": "stream",
     "text": [
      "Insufficient balance\n"
     ]
    }
   ],
   "source": [
    "cus3 = Bankaccount(\"Mukesh\",10000)\n",
    "cus3.withdraw(9500)"
   ]
  },
  {
   "cell_type": "code",
   "execution_count": null,
   "id": "76df5c40-edb4-4873-ae83-2caf5b75f7b2",
   "metadata": {},
   "outputs": [],
   "source": []
  }
 ],
 "metadata": {
  "kernelspec": {
   "display_name": "Python 3 (ipykernel)",
   "language": "python",
   "name": "python3"
  },
  "language_info": {
   "codemirror_mode": {
    "name": "ipython",
    "version": 3
   },
   "file_extension": ".py",
   "mimetype": "text/x-python",
   "name": "python",
   "nbconvert_exporter": "python",
   "pygments_lexer": "ipython3",
   "version": "3.13.5"
  }
 },
 "nbformat": 4,
 "nbformat_minor": 5
}
